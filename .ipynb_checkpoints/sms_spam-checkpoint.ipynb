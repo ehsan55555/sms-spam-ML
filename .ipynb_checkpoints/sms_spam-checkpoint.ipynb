{
 "cells": [
  {
   "cell_type": "markdown",
   "id": "f3de69d2-8269-4b67-96fa-59e0526584a3",
   "metadata": {},
   "source": [
    "# SMS Spam Detection Project Overview\n",
    "### This project focused on developing a machine learning model to accurately classify SMS messages as spam (unwanted messages) or ham (legitimate messages). The goal was to enhance user experience and security by effectively identifying and filtering out spam.\n",
    "\n",
    "\n",
    "\n",
    "### In this Jupyter Notebook, a model is developed to classify email messages into two categories:\n",
    "- **Legitimate Emails (commonly referred to as 'Ham')**: These are emails that the user has explicitly or implicitly indicated they wish to receive. They include personal communications, business correspondences, and subscribed newsletters.\n",
    "- **Spam Emails (commonly known as 'Spam')**: These are unsolicited emails often sent in bulk. They range from benign advertisements to malicious emails containing scams or malware.\n",
    "\n",
    "### The goal is to accurately identify and filter out Spam emails to improve user experience and enhance security.\n",
    "\n",
    "\n",
    "## Objectives\n",
    "- Perform exploratory data analysis.\n",
    "- Prepare the dataset through preprocessing and feature engineering.\n",
    "- Build a logistic regression model to classify messages.\n",
    "- Evaluate the model using accuracy, precision, recall, and F1-score.\n",
    "- Improve the model with cross-validation and parameter tuning."
   ]
  },
  {
   "cell_type": "code",
   "execution_count": 1,
   "id": "ce4ac719-6cd6-46fa-afe1-ef8972136f1e",
   "metadata": {
    "tags": []
   },
   "outputs": [],
   "source": [
    "# Importing dependencies libraries.\n",
    "import pandas as pd\n",
    "import matplotlib.pyplot as plt\n",
    "import seaborn as sns\n",
    "import numpy as np\n",
    "from sklearn.feature_extraction.text import TfidfVectorizer\n",
    "from sklearn.model_selection import train_test_split, GridSearchCV, cross_val_score\n",
    "from sklearn.linear_model import LogisticRegression\n",
    "from sklearn.metrics import accuracy_score, confusion_matrix, classification_report"
   ]
  },
  {
   "cell_type": "code",
   "execution_count": 2,
   "id": "9eccee55-b442-452a-b25f-4e177d80b019",
   "metadata": {
    "tags": []
   },
   "outputs": [
    {
     "data": {
      "text/html": [
       "<div>\n",
       "<style scoped>\n",
       "    .dataframe tbody tr th:only-of-type {\n",
       "        vertical-align: middle;\n",
       "    }\n",
       "\n",
       "    .dataframe tbody tr th {\n",
       "        vertical-align: top;\n",
       "    }\n",
       "\n",
       "    .dataframe thead th {\n",
       "        text-align: right;\n",
       "    }\n",
       "</style>\n",
       "<table border=\"1\" class=\"dataframe\">\n",
       "  <thead>\n",
       "    <tr style=\"text-align: right;\">\n",
       "      <th></th>\n",
       "      <th>v1</th>\n",
       "      <th>v2</th>\n",
       "      <th>Unnamed: 2</th>\n",
       "      <th>Unnamed: 3</th>\n",
       "      <th>Unnamed: 4</th>\n",
       "    </tr>\n",
       "  </thead>\n",
       "  <tbody>\n",
       "    <tr>\n",
       "      <th>0</th>\n",
       "      <td>ham</td>\n",
       "      <td>Go until jurong point, crazy.. Available only ...</td>\n",
       "      <td>NaN</td>\n",
       "      <td>NaN</td>\n",
       "      <td>NaN</td>\n",
       "    </tr>\n",
       "    <tr>\n",
       "      <th>1</th>\n",
       "      <td>ham</td>\n",
       "      <td>Ok lar... Joking wif u oni...</td>\n",
       "      <td>NaN</td>\n",
       "      <td>NaN</td>\n",
       "      <td>NaN</td>\n",
       "    </tr>\n",
       "    <tr>\n",
       "      <th>2</th>\n",
       "      <td>spam</td>\n",
       "      <td>Free entry in 2 a wkly comp to win FA Cup fina...</td>\n",
       "      <td>NaN</td>\n",
       "      <td>NaN</td>\n",
       "      <td>NaN</td>\n",
       "    </tr>\n",
       "    <tr>\n",
       "      <th>3</th>\n",
       "      <td>ham</td>\n",
       "      <td>U dun say so early hor... U c already then say...</td>\n",
       "      <td>NaN</td>\n",
       "      <td>NaN</td>\n",
       "      <td>NaN</td>\n",
       "    </tr>\n",
       "    <tr>\n",
       "      <th>4</th>\n",
       "      <td>ham</td>\n",
       "      <td>Nah I don't think he goes to usf, he lives aro...</td>\n",
       "      <td>NaN</td>\n",
       "      <td>NaN</td>\n",
       "      <td>NaN</td>\n",
       "    </tr>\n",
       "  </tbody>\n",
       "</table>\n",
       "</div>"
      ],
      "text/plain": [
       "     v1                                                 v2 Unnamed: 2  \\\n",
       "0   ham  Go until jurong point, crazy.. Available only ...        NaN   \n",
       "1   ham                      Ok lar... Joking wif u oni...        NaN   \n",
       "2  spam  Free entry in 2 a wkly comp to win FA Cup fina...        NaN   \n",
       "3   ham  U dun say so early hor... U c already then say...        NaN   \n",
       "4   ham  Nah I don't think he goes to usf, he lives aro...        NaN   \n",
       "\n",
       "  Unnamed: 3 Unnamed: 4  \n",
       "0        NaN        NaN  \n",
       "1        NaN        NaN  \n",
       "2        NaN        NaN  \n",
       "3        NaN        NaN  \n",
       "4        NaN        NaN  "
      ]
     },
     "execution_count": 2,
     "metadata": {},
     "output_type": "execute_result"
    }
   ],
   "source": [
    "# Load the dataset.\n",
    "spam_df = pd.read_csv('Resources/spam.csv', encoding='ISO-8859-1')\n",
    "spam_df.head() # Display DataFrame"
   ]
  },
  {
   "cell_type": "markdown",
   "id": "bed1608d-a44f-47fa-b709-3b0a80402cf2",
   "metadata": {},
   "source": [
    "## Initial Data Inspection\n",
    "\n",
    "### Checking number of columns, understanding the type of data each column holds, and looking for missing values."
   ]
  },
  {
   "cell_type": "code",
   "execution_count": 3,
   "id": "ff98fec1-767e-4a07-b05a-18869cb479a1",
   "metadata": {
    "tags": []
   },
   "outputs": [
    {
     "data": {
      "text/plain": [
       "Index(['v1', 'v2', 'Unnamed: 2', 'Unnamed: 3', 'Unnamed: 4'], dtype='object')"
      ]
     },
     "execution_count": 3,
     "metadata": {},
     "output_type": "execute_result"
    }
   ],
   "source": [
    "# Review columns in dataset.\n",
    "spam_df.columns"
   ]
  },
  {
   "cell_type": "code",
   "execution_count": 4,
   "id": "1ee0656c-ff3b-4428-81c0-5f9453c9c533",
   "metadata": {
    "tags": []
   },
   "outputs": [
    {
     "name": "stdout",
     "output_type": "stream",
     "text": [
      "<class 'pandas.core.frame.DataFrame'>\n",
      "RangeIndex: 5572 entries, 0 to 5571\n",
      "Data columns (total 5 columns):\n",
      " #   Column      Non-Null Count  Dtype \n",
      "---  ------      --------------  ----- \n",
      " 0   v1          5572 non-null   object\n",
      " 1   v2          5572 non-null   object\n",
      " 2   Unnamed: 2  50 non-null     object\n",
      " 3   Unnamed: 3  12 non-null     object\n",
      " 4   Unnamed: 4  6 non-null      object\n",
      "dtypes: object(5)\n",
      "memory usage: 217.8+ KB\n"
     ]
    }
   ],
   "source": [
    "# Review datatypes.\n",
    "spam_df.info()"
   ]
  },
  {
   "cell_type": "code",
   "execution_count": 5,
   "id": "5db6e646-5f94-4cb1-99da-6e8d0ffca411",
   "metadata": {
    "tags": []
   },
   "outputs": [
    {
     "data": {
      "text/plain": [
       "v1            False\n",
       "v2            False\n",
       "Unnamed: 2     True\n",
       "Unnamed: 3     True\n",
       "Unnamed: 4     True\n",
       "dtype: bool"
      ]
     },
     "execution_count": 5,
     "metadata": {},
     "output_type": "execute_result"
    }
   ],
   "source": [
    "# Look for any null values.\n",
    "spam_df.isnull().any()"
   ]
  },
  {
   "cell_type": "code",
   "execution_count": 6,
   "id": "fca24d35-8510-49e5-a002-e73d5b0aefad",
   "metadata": {
    "tags": []
   },
   "outputs": [
    {
     "data": {
      "text/plain": [
       "v1               0\n",
       "v2               0\n",
       "Unnamed: 2    5522\n",
       "Unnamed: 3    5560\n",
       "Unnamed: 4    5566\n",
       "dtype: int64"
      ]
     },
     "execution_count": 6,
     "metadata": {},
     "output_type": "execute_result"
    }
   ],
   "source": [
    "# See total number of null values.\n",
    "spam_df.isnull().sum()"
   ]
  },
  {
   "cell_type": "markdown",
   "id": "a04da3ce-7bef-443b-9af0-69358d2de2ce",
   "metadata": {},
   "source": [
    "## Data Cleaning\n",
    "### Remove unnecessary columns that mostly contain missing values."
   ]
  },
  {
   "cell_type": "code",
   "execution_count": 7,
   "id": "ce83b267-468a-471d-95a5-caad1b83e668",
   "metadata": {
    "tags": []
   },
   "outputs": [],
   "source": [
    "# Data Cleaning: Remove unnecessary columns that mostly contain missing values.\n",
    "# Rename columns for better readability.\n",
    "spam_df = spam_df.drop(columns=['Unnamed: 2', 'Unnamed: 3', 'Unnamed: 4'])\n",
    "spam_df.columns = ['Label', 'Message']"
   ]
  },
  {
   "cell_type": "markdown",
   "id": "a724dffd-b274-46cd-b863-2acaf25894b3",
   "metadata": {
    "tags": []
   },
   "source": [
    "## Distribution of Message Lengths by Label\n",
    "\n",
    "This visualization depicts the distribution of message lengths categorized by their labels ('spam' and 'ham')."
   ]
  },
  {
   "cell_type": "code",
   "execution_count": 8,
   "id": "df78e933-9b5d-43cd-9565-643a4e58d9aa",
   "metadata": {
    "tags": []
   },
   "outputs": [
    {
     "data": {
      "image/png": "[encoded data removed]",
      "text/plain": [
       "<Figure size 1200x600 with 1 Axes>"
      ]
     },
     "metadata": {},
     "output_type": "display_data"
    }
   ],
   "source": [
    "# Exploratory Data Analysis: Adding a new column for message length.\n",
    "# Calculate the length of each message and store it in a new column in the dataframe.\n",
    "spam_df['Message Length'] = spam_df['Message'].apply(len)\n",
    "\n",
    "# Plotting the distribution of message lengths by label to visualize differences.\n",
    "plt.figure(figsize=(12, 6))  # Set the size of the plot for better visibility.\n",
    "sns.histplot(spam_df, x='Message Length', hue='Label', element='step', stat='density', common_norm=False)  # Create histogram with density instead of count to compare the distribution of 'ham' vs 'spam'.\n",
    "plt.title('Distribution of Message Lengths by Label')  # Add a title to the plot.\n",
    "plt.xlabel('Message Length')  # Label the x-axis as 'Message Length'.\n",
    "plt.ylabel('Density')  # Label the y-axis as 'Density'.\n",
    "\n",
    "plt.show()  # Display the plot."
   ]
  },
  {
   "cell_type": "markdown",
   "id": "34577f01-9463-4a24-b6b6-079af905e08b",
   "metadata": {},
   "source": [
    "## Distribution of Spam vs Ham Messages\n",
    "\n",
    "This bar plot illustrates the count of spam versus ham messages in the dataset, providing insight into the class imbalance."
   ]
  },
  {
   "cell_type": "code",
   "execution_count": 9,
   "id": "63664886-5ccb-4be1-a173-7a715a8b5727",
   "metadata": {
    "tags": []
   },
   "outputs": [
    {
     "data": {
      "image/png": "[encoded data removed]",
      "text/plain": [
       "<Figure size 800x400 with 1 Axes>"
      ]
     },
     "metadata": {},
     "output_type": "display_data"
    }
   ],
   "source": [
    "# Plot the distribution of spam versus ham messages to visualize the imbalance.\n",
    "plt.figure(figsize=(8, 4))\n",
    "label_counts = spam_df['Label'].value_counts()\n",
    "sns.barplot(x=label_counts.index, y=label_counts.values)\n",
    "plt.title('Count of Spam vs Ham Messages')\n",
    "plt.xlabel('Label') # X axis label\n",
    "plt.ylabel('Count') # Y axis label\n",
    "plt.show() # Show bar graph"
   ]
  },
  {
   "cell_type": "code",
   "execution_count": 10,
   "id": "e195ec58-7c5a-497b-b54b-e52e3d1e503b",
   "metadata": {
    "tags": []
   },
   "outputs": [],
   "source": [
    "# Feature Engineering: Use TF-IDF vectorization to transform text messages into a more usable form for machine learning.\n",
    "tfidf_vectorizer = TfidfVectorizer(stop_words='english', max_features=3000)\n",
    "X_tfidf = tfidf_vectorizer.fit_transform(spam_df['Message'])"
   ]
  },
  {
   "cell_type": "code",
   "execution_count": 11,
   "id": "279a59a5-6496-417e-8ff0-fa9196219690",
   "metadata": {
    "tags": []
   },
   "outputs": [],
   "source": [
    "# Preparing the target variable for model training.\n",
    "y = spam_df['Label']"
   ]
  },
  {
   "cell_type": "code",
   "execution_count": 12,
   "id": "17a5ed4a-4a30-4c7c-b1ba-738bb5336eef",
   "metadata": {
    "tags": []
   },
   "outputs": [],
   "source": [
    "# Splitting the dataset into training and testing sets to ensure the model can be independently evaluated.\n",
    "X_train, X_test, y_train, y_test = train_test_split(X_tfidf, y, test_size=0.3, random_state=42)"
   ]
  },
  {
   "cell_type": "code",
   "execution_count": 13,
   "id": "12e166f2-51d3-46e8-b85b-af879158a1da",
   "metadata": {
    "tags": []
   },
   "outputs": [
    {
     "data": {
      "text/html": [
       "<style>#sk-container-id-1 {color: black;background-color: white;}#sk-container-id-1 pre{padding: 0;}#sk-container-id-1 div.sk-toggleable {background-color: white;}#sk-container-id-1 label.sk-toggleable__label {cursor: pointer;display: block;width: 100%;margin-bottom: 0;padding: 0.3em;box-sizing: border-box;text-align: center;}#sk-container-id-1 label.sk-toggleable__label-arrow:before {content: \"▸\";float: left;margin-right: 0.25em;color: #696969;}#sk-container-id-1 label.sk-toggleable__label-arrow:hover:before {color: black;}#sk-container-id-1 div.sk-estimator:hover label.sk-toggleable__label-arrow:before {color: black;}#sk-container-id-1 div.sk-toggleable__content {max-height: 0;max-width: 0;overflow: hidden;text-align: left;background-color: #f0f8ff;}#sk-container-id-1 div.sk-toggleable__content pre {margin: 0.2em;color: black;border-radius: 0.25em;background-color: #f0f8ff;}#sk-container-id-1 input.sk-toggleable__control:checked~div.sk-toggleable__content {max-height: 200px;max-width: 100%;overflow: auto;}#sk-container-id-1 input.sk-toggleable__control:checked~label.sk-toggleable__label-arrow:before {content: \"▾\";}#sk-container-id-1 div.sk-estimator input.sk-toggleable__control:checked~label.sk-toggleable__label {background-color: #d4ebff;}#sk-container-id-1 div.sk-label input.sk-toggleable__control:checked~label.sk-toggleable__label {background-color: #d4ebff;}#sk-container-id-1 input.sk-hidden--visually {border: 0;clip: rect(1px 1px 1px 1px);clip: rect(1px, 1px, 1px, 1px);height: 1px;margin: -1px;overflow: hidden;padding: 0;position: absolute;width: 1px;}#sk-container-id-1 div.sk-estimator {font-family: monospace;background-color: #f0f8ff;border: 1px dotted black;border-radius: 0.25em;box-sizing: border-box;margin-bottom: 0.5em;}#sk-container-id-1 div.sk-estimator:hover {background-color: #d4ebff;}#sk-container-id-1 div.sk-parallel-item::after {content: \"\";width: 100%;border-bottom: 1px solid gray;flex-grow: 1;}#sk-container-id-1 div.sk-label:hover label.sk-toggleable__label {background-color: #d4ebff;}#sk-container-id-1 div.sk-serial::before {content: \"\";position: absolute;border-left: 1px solid gray;box-sizing: border-box;top: 0;bottom: 0;left: 50%;z-index: 0;}#sk-container-id-1 div.sk-serial {display: flex;flex-direction: column;align-items: center;background-color: white;padding-right: 0.2em;padding-left: 0.2em;position: relative;}#sk-container-id-1 div.sk-item {position: relative;z-index: 1;}#sk-container-id-1 div.sk-parallel {display: flex;align-items: stretch;justify-content: center;background-color: white;position: relative;}#sk-container-id-1 div.sk-item::before, #sk-container-id-1 div.sk-parallel-item::before {content: \"\";position: absolute;border-left: 1px solid gray;box-sizing: border-box;top: 0;bottom: 0;left: 50%;z-index: -1;}#sk-container-id-1 div.sk-parallel-item {display: flex;flex-direction: column;z-index: 1;position: relative;background-color: white;}#sk-container-id-1 div.sk-parallel-item:first-child::after {align-self: flex-end;width: 50%;}#sk-container-id-1 div.sk-parallel-item:last-child::after {align-self: flex-start;width: 50%;}#sk-container-id-1 div.sk-parallel-item:only-child::after {width: 0;}#sk-container-id-1 div.sk-dashed-wrapped {border: 1px dashed gray;margin: 0 0.4em 0.5em 0.4em;box-sizing: border-box;padding-bottom: 0.4em;background-color: white;}#sk-container-id-1 div.sk-label label {font-family: monospace;font-weight: bold;display: inline-block;line-height: 1.2em;}#sk-container-id-1 div.sk-label-container {text-align: center;}#sk-container-id-1 div.sk-container {/* jupyter's `normalize.less` sets `[hidden] { display: none; }` but bootstrap.min.css set `[hidden] { display: none !important; }` so we also need the `!important` here to be able to override the default hidden behavior on the sphinx rendered scikit-learn.org. See: https://github.com/scikit-learn/scikit-learn/issues/21755 */display: inline-block !important;position: relative;}#sk-container-id-1 div.sk-text-repr-fallback {display: none;}</style><div id=\"sk-container-id-1\" class=\"sk-top-container\"><div class=\"sk-text-repr-fallback\"><pre>LogisticRegression(max_iter=1000)</pre><b>In a Jupyter environment, please rerun this cell to show the HTML representation or trust the notebook. <br />On GitHub, the HTML representation is unable to render, please try loading this page with nbviewer.org.</b></div><div class=\"sk-container\" hidden><div class=\"sk-item\"><div class=\"sk-estimator sk-toggleable\"><input class=\"sk-toggleable__control sk-hidden--visually\" id=\"sk-estimator-id-1\" type=\"checkbox\" checked><label for=\"sk-estimator-id-1\" class=\"sk-toggleable__label sk-toggleable__label-arrow\">LogisticRegression</label><div class=\"sk-toggleable__content\"><pre>LogisticRegression(max_iter=1000)</pre></div></div></div></div></div>"
      ],
      "text/plain": [
       "LogisticRegression(max_iter=1000)"
      ]
     },
     "execution_count": 13,
     "metadata": {},
     "output_type": "execute_result"
    }
   ],
   "source": [
    "# Model Training: Using Logistic Regression due to its effectiveness with high-dimensional sparse data.\n",
    "model = LogisticRegression(max_iter=1000)\n",
    "model.fit(X_train, y_train)"
   ]
  },
  {
   "cell_type": "code",
   "execution_count": 14,
   "id": "2ce4b726-7169-4872-a9bd-ced449a02f25",
   "metadata": {
    "tags": []
   },
   "outputs": [],
   "source": [
    "# Model Evaluation: Predicting the test data and evaluating accuracy and other metrics.\n",
    "y_pred = model.predict(X_test)\n",
    "accuracy = accuracy_score(y_test, y_pred)\n",
    "conf_matrix = confusion_matrix(y_test, y_pred)\n",
    "report = classification_report(y_test, y_pred)"
   ]
  },
  {
   "cell_type": "code",
   "execution_count": 15,
   "id": "1be137e6-6282-4476-b187-93f989152ad8",
   "metadata": {
    "tags": []
   },
   "outputs": [
    {
     "name": "stdout",
     "output_type": "stream",
     "text": [
      "Accuracy: 0.9509569377990431\n",
      "Confusion Matrix:\n",
      " [[1450    3]\n",
      " [  79  140]]\n",
      "Classification Report:\n",
      "               precision    recall  f1-score   support\n",
      "\n",
      "         ham       0.95      1.00      0.97      1453\n",
      "        spam       0.98      0.64      0.77       219\n",
      "\n",
      "    accuracy                           0.95      1672\n",
      "   macro avg       0.96      0.82      0.87      1672\n",
      "weighted avg       0.95      0.95      0.95      1672\n",
      "\n"
     ]
    }
   ],
   "source": [
    "# Print out accuracy and detailed classification metrics to assess model performance.\n",
    "print(\"Accuracy:\", accuracy)\n",
    "print(\"Confusion Matrix:\\n\", conf_matrix)\n",
    "print(\"Classification Report:\\n\", report)"
   ]
  },
  {
   "cell_type": "markdown",
   "id": "b65740b3-a064-4a0d-83f0-bcda31dd4bad",
   "metadata": {},
   "source": [
    "## Model Accuracy\n",
    "### This number tells us how often the model makes the right prediction about whether a message is spam or not. An accuracy of 95.1% means that about 95 times out of 100, the model's prediction is correct."
   ]
  },
  {
   "cell_type": "code",
   "execution_count": 16,
   "id": "0613c569-a44a-4d1c-b6e6-4ec1bd1cd116",
   "metadata": {
    "tags": []
   },
   "outputs": [
    {
     "name": "stdout",
     "output_type": "stream",
     "text": [
      "Accuracy: 0.9509569377990431\n"
     ]
    }
   ],
   "source": [
    "print(\"Accuracy:\", accuracy)"
   ]
  },
  {
   "cell_type": "markdown",
   "id": "86ee9263-47d5-4956-99ec-0f9774af2491",
   "metadata": {
    "tags": []
   },
   "source": [
    "### Understanding the Confusion Matrix\n",
    "The confusion matrix helps us see the errors made by the model:\n",
    "- Top-left: Number of normal messages correctly identified.\n",
    "- Top-right: Number of normal messages wrongly identified as spam.\n",
    "- Bottom-left: Number of spam messages wrongly identified as normal.\n",
    "- Bottom-right: Number of spam messages correctly identified.\n",
    "\n",
    "For the model:\n",
    "|       | Predicted Normal | Predicted Spam |\n",
    "|-------|------------------|----------------|\n",
    "| Actual Normal | 1450               | 3              |\n",
    "| Actual Spam   | 79                 | 140            |\n"
   ]
  },
  {
   "cell_type": "code",
   "execution_count": 17,
   "id": "bb3f84ee-25e4-4e4d-8952-cbeb0b0d1603",
   "metadata": {
    "tags": []
   },
   "outputs": [
    {
     "name": "stdout",
     "output_type": "stream",
     "text": [
      "Confusion Matrix:\n",
      " [[1450    3]\n",
      " [  79  140]]\n"
     ]
    }
   ],
   "source": [
    "print(\"Confusion Matrix:\\n\", conf_matrix)"
   ]
  },
  {
   "cell_type": "markdown",
   "id": "b6e00003-4c59-41f3-ad74-5dd0ef920eb1",
   "metadata": {},
   "source": [
    "### Detailed Performance Analysis\n",
    "The classification report gives us a deeper look at the model's performance for each type of message (normal and spam):\n",
    "- Precision: Tells us how many of the messages we predicted to be in a category were actually in that category.\n",
    "- Recall: Tells us how many of the messages that are actually in a category were predicted by us as being in that category.\n",
    "- F1-Score: Combines precision and recall into a single number that gives a better overall view of the model's effectiveness.\n",
    "\n",
    "For non-technical understanding:\n",
    "- A higher precision means when we say a message is spam, it really is spam.\n",
    "- A higher recall means we are catching a good portion of the spam messages.\n",
    "- The F1-score helps us balance precision and recall, aiming for high numbers in both.\n"
   ]
  },
  {
   "cell_type": "code",
   "execution_count": 18,
   "id": "b9fc5654-5f6b-40a9-a292-375c9e248dfa",
   "metadata": {
    "tags": []
   },
   "outputs": [
    {
     "name": "stdout",
     "output_type": "stream",
     "text": [
      "Classification Report:\n",
      "               precision    recall  f1-score   support\n",
      "\n",
      "         ham       0.95      1.00      0.97      1453\n",
      "        spam       0.98      0.64      0.77       219\n",
      "\n",
      "    accuracy                           0.95      1672\n",
      "   macro avg       0.96      0.82      0.87      1672\n",
      "weighted avg       0.95      0.95      0.95      1672\n",
      "\n"
     ]
    }
   ],
   "source": [
    "print(\"Classification Report:\\n\", report)"
   ]
  },
  {
   "cell_type": "markdown",
   "id": "9b67bf42-b243-489b-bb73-0a0e9fe6be41",
   "metadata": {},
   "source": [
    "### Improvements (Cross-Validation and Parameter Tuning)"
   ]
  },
  {
   "cell_type": "code",
   "execution_count": 19,
   "id": "72c47753-5051-46e8-a12e-9a99de92ef22",
   "metadata": {
    "tags": []
   },
   "outputs": [
    {
     "name": "stdout",
     "output_type": "stream",
     "text": [
      "Cross-validation scores: [0.96950673 0.9632287  0.96319569 0.9551167  0.96409336]\n",
      "Average cross-validation score: 0.963028234214361\n",
      "Best parameters: {'C': 100, 'solver': 'liblinear'}\n",
      "Best cross-validation score: 0.98\n"
     ]
    }
   ],
   "source": [
    "# Perform cross-validation to evaluate the effectiveness of the Logistic Regression model\n",
    "scores = cross_val_score(LogisticRegression(max_iter=1000), X_tfidf, y, cv=5)  # Use 5-fold cross-validation to assess model stability and robustness.\n",
    "\n",
    "print(\"Cross-validation scores:\", scores)  # Print out the accuracy scores for each fold.\n",
    "print(\"Average cross-validation score:\", scores.mean())  # Calculate and print the average of these scores to get an overall idea of the model's performance.\n",
    "\n",
    "# Parameter Tuning with Grid Search to find the best model parameters.\n",
    "param_grid = {'C': [0.1, 1, 10, 100], 'solver': ['liblinear', 'lbfgs']}  # Define a grid of parameters to test.\n",
    "grid_search = GridSearchCV(LogisticRegression(max_iter=1000), param_grid, cv=5, scoring='accuracy')  # Setup the grid search with 5-fold cross-validation.\n",
    "grid_search.fit(X_tfidf, y)  # Fit the grid search model.\n",
    "\n",
    "print(\"Best parameters:\", grid_search.best_params_)  # Output the best parameters found via grid search.\n",
    "print(\"Best cross-validation score: {:.2f}\".format(grid_search.best_score_))  # Print the highest cross-validation score achieved."
   ]
  },
  {
   "cell_type": "markdown",
   "id": "7f8a0cab-23ae-41bb-b44d-9c72fcaa91f2",
   "metadata": {},
   "source": [
    "## Model Validation and Optimization Results\n",
    "\n",
    "### Cross-Validation\n",
    "- The logistic regression model achieved the following cross-validation scores across different segments of the data: 96.9%, 96.3%, 96.3%, 95.5%, and 96.4%. \n",
    "- **Average Cross-Validation Score**: 96.3%\n",
    "  - This average score suggests that the model is robust and performs consistently across different subsets of the dataset, ensuring that it is not overfitting to a particular part of the data.\n",
    "\n",
    "### Parameter Tuning\n",
    "- **Best Parameters**: `{C: 100, solver: 'liblinear'}`\n",
    "  - `C: 100` suggests less regularization, allowing the model to capture a more complex pattern in the data without heavy penalty for larger coefficients.\n",
    "  - `solver: 'liblinear'` is an effective choice for binary classification problems, particularly on smaller or medium datasets.\n",
    "- **Best Cross-Validation Score from Grid Search**: 98%\n",
    "  - Achieving a 98% score indicates a significant improvement when these optimal parameters are used, suggesting that the model can potentially perform even better under these settings.\n",
    "\n",
    "### Next Steps\n",
    "Given the model's strong performance, let's try to further refine and utilize it through the following approaches:\n",
    "\n",
    "1. **Feature Analysis**: Investigate which features (words) most strongly influence predictions to gain insights into the model's decision-making process.\n",
    "2. **Error Analysis**: Examine specific cases where the model fails to predict correctly. This can help identify any patterns or characteristics that lead to these errors, offering clues for further improvements.\n",
    "3. **Deployment Considerations**: Explore how to implement this model in a real-world application, such as integrating it into email systems for spam detection or creating a web service for message classification.\n",
    "4. **Documentation and Reporting**: Prepare comprehensive documentation and presentations to communicate the methodology, results, and implications of this project to stakeholders or for portfolio inclusion.\n",
    "5. **Experiment with Other Models**: Test alternative modeling approaches like SVM, Random Forests, or neural networks to see if they offer improvements over the current logistic regression model.\n",
    "\n",
    "These steps will help maximize the impact and utility of the spam detection model, guiding further research and development efforts.\n"
   ]
  },
  {
   "cell_type": "markdown",
   "id": "f61160c9-cd97-46a2-9337-79a2aa2f05ba",
   "metadata": {},
   "source": [
    "## Feature Analysis\n",
    "### To understand which words (features) are most influential in predicting spam, let's look at the coefficients of the logistic regression model. \n",
    "### This will show which terms have the strongest effect on classifying a message as spam or ham."
   ]
  },
  {
   "cell_type": "code",
   "execution_count": 20,
   "id": "f7188860-276b-4fe1-b8ea-2e92b32bad9b",
   "metadata": {
    "tags": []
   },
   "outputs": [
    {
     "name": "stdout",
     "output_type": "stream",
     "text": [
      "      Feature  Coefficient\n",
      "2724      txt     4.267057\n",
      "1775   mobile     3.662131\n",
      "638     claim     3.385763\n",
      "2957      www     3.287982\n",
      "1033     free     3.272801\n",
      "2735       uk     3.113813\n",
      "179        50     2.977134\n",
      "2506     stop     2.943937\n",
      "2326  service     2.792092\n",
      "1851      new     2.778551\n",
      "     Feature  Coefficient\n",
      "1235     hey    -1.128683\n",
      "796      did    -1.137924\n",
      "1258    home    -1.215312\n",
      "748       da    -1.217510\n",
      "668     come    -1.268033\n",
      "1137   going    -1.279573\n",
      "1582      ll    -1.408709\n",
      "1165      gt    -1.556675\n",
      "1635      lt    -1.565242\n",
      "1895      ok    -1.638552\n"
     ]
    }
   ],
   "source": [
    "# Extracting feature names and their corresponding coefficients from the model.\n",
    "feature_names = tfidf_vectorizer.get_feature_names_out()\n",
    "coefficients = model.coef_[0]\n",
    "\n",
    "# Creating a DataFrame to view the features with their coefficients\n",
    "feature_importance = pd.DataFrame({'Feature': feature_names, 'Coefficient': coefficients})\n",
    "feature_importance = feature_importance.sort_values(by='Coefficient', ascending=False)\n",
    "\n",
    "# Display the top 10 features that positively influence spam detection.\n",
    "print(feature_importance.head(10))\n",
    "\n",
    "# Display the top 10 features that negatively influence (more likely ham).\n",
    "print(feature_importance.tail(10))"
   ]
  },
  {
   "cell_type": "markdown",
   "id": "a219a9e5-bfba-4987-b977-ff8350001895",
   "metadata": {},
   "source": [
    "## Error Analysis\n",
    "By examining instances where the model fails, we can potentially uncover patterns that lead to misclassification. This involves reviewing false positives and false negatives closely."
   ]
  },
  {
   "cell_type": "code",
   "execution_count": 21,
   "id": "e5e18295-9ab7-4dd6-a1f9-2508a39f1a85",
   "metadata": {
    "tags": []
   },
   "outputs": [
    {
     "name": "stdout",
     "output_type": "stream",
     "text": [
      "False Positives:\n",
      "      Actual Predicted  Spam Probability  Correct\n",
      "4700    ham      spam          0.602368    False\n",
      "3362    ham      spam          0.686462    False\n",
      "4417    ham      spam          0.686462    False\n",
      "False Negatives:\n",
      "      Actual Predicted  Spam Probability  Correct\n",
      "1044   spam       ham          0.199781    False\n",
      "683    spam       ham          0.292432    False\n",
      "4733   spam       ham          0.400106    False\n",
      "3494   spam       ham          0.452722    False\n",
      "4071   spam       ham          0.196556    False\n",
      "...     ...       ...               ...      ...\n",
      "3554   spam       ham          0.464764    False\n",
      "868    spam       ham          0.061802    False\n",
      "4346   spam       ham          0.363778    False\n",
      "2574   spam       ham          0.294162    False\n",
      "1662   spam       ham          0.262686    False\n",
      "\n",
      "[79 rows x 4 columns]\n"
     ]
    }
   ],
   "source": [
    "# Predict probabilities for each class for the test set.\n",
    "probabilities = model.predict_proba(X_test)\n",
    "\n",
    "# Create a DataFrame that includes the actual labels, predicted labels, and the probability of being classified as spam.\n",
    "test_results = pd.DataFrame({\n",
    "    'Actual': y_test, \n",
    "    'Predicted': y_pred, \n",
    "    'Spam Probability': probabilities[:,1]  # Slice to get probabilities of the positive class (spam).\n",
    "})\n",
    "\n",
    "# Add a new column to indicate whether the prediction was correct.\n",
    "test_results['Correct'] = test_results['Actual'] == test_results['Predicted']\n",
    "\n",
    "# Identify false positives: cases where the prediction was 'spam' but was incorrect.\n",
    "false_positives = test_results[(test_results['Predicted'] == 'spam') & (test_results['Correct'] == False)]\n",
    "\n",
    "# Identify false negatives: cases where the prediction was 'ham' but was incorrect.\n",
    "false_negatives = test_results[(test_results['Predicted'] == 'ham') & (test_results['Correct'] == False)]\n",
    "\n",
    "# Print false positives and false negatives to review these specific errors.\n",
    "print(\"False Positives:\\n\", false_positives)\n",
    "print(\"False Negatives:\\n\", false_negatives)"
   ]
  },
  {
   "cell_type": "markdown",
   "id": "91abb104-75f4-4d23-ac9e-5fc2cfb49fac",
   "metadata": {},
   "source": [
    "## Error Analysis Results\n",
    "\n",
    "In this section, I conducted an error analysis to better understand where the model is making incorrect predictions. This analysis is crucial for refining the model’s performance and enhancing its accuracy in classifying messages. I specifically focused on false positives and false negatives:\n",
    "\n",
    "### False Positives\n",
    "False positives occur when legitimate, non-spam messages are incorrectly classified as spam. This can be particularly problematic as it might lead to important communications being mistakenly filtered out, causing potential disruptions. Here are a few illustrative examples from the model:\n",
    "\n",
    "- **Message 4700**: This message was classified as spam with a probability of 60.24%, despite being a legitimate message. This indicates a possible over-sensitivity of the model to certain features.\n",
    "- **Message 3362 and 4417**: Both were classified as spam with a probability of approximately 68.65%. This high confidence level in incorrect classification suggests that the model may be overemphasizing certain words or phrases typically associated with spam.\n",
    "\n",
    "These instances demonstrate that the model might be overly aggressive in predicting spam, potentially due to common spam-associated keywords also appearing in normal communications.\n",
    "\n",
    "### False Negatives\n",
    "False negatives occur when spam messages are incorrectly labeled as non-spam, which is dangerous as it allows potentially harmful messages to bypass the filters. Some examples include:\n",
    "\n",
    "- **Messages like 1044 and 683**: These had relatively low spam probabilities (19.98% and 29.24%, respectively), indicating that the model lacked confidence in classifying these as spam.\n",
    "- **Messages 4733 through 1662**: These messages displayed a range of spam probabilities, up to 46.47%, but were not deemed spammy enough to trigger the model’s threshold.\n",
    "\n",
    "These examples highlight weaknesses in the model’s ability to detect spam, particularly when spam messages mimic legitimate messaging styles or include mixed indicators that confuse the model.\n",
    "\n",
    "### Implications\n",
    "Understanding these errors is fundamental to improving the spam detection model. By analyzing false positives, I can adjust the model to reduce its sensitivity to certain features that might lead to over-predicting spam. Conversely, by examining false negatives more closely, I can identify which features might need more emphasis in spam prediction to ensure harmful or unwanted messages are more reliably filtered out.\n",
    "\n",
    "This detailed error analysis not only aids in fine-tuning and enhancing the model but also provides deeper insights into the nature of the data and the behavior of the predictive algorithms. Going forward, I plan to conduct further analysis on a broader set of errors and integrate additional data features to help reduce both types of errors, refining the approach to spam detection."
   ]
  },
  {
   "cell_type": "markdown",
   "id": "0faac77d-28c7-4ea2-9773-b98d0be964bc",
   "metadata": {
    "tags": []
   },
   "source": [
    "## Random Forest Model\n",
    "\n",
    "In this section, the Random Forest classifier is implemented to predict whether messages are spam or not. Random Forest is an ensemble learning method that operates by constructing a multitude of decision trees at training time and outputting the class that is the mode of the classes of the individual trees. It is effective for classification tasks because it provides a higher level of accuracy by reducing overfitting and handling unbalanced datasets efficiently.\n",
    "\n",
    "We choose Random Forest for its robustness and ability to handle complex data structures with interdependencies among features, which is common in text data.\n"
   ]
  },
  {
   "cell_type": "code",
   "execution_count": 22,
   "id": "b90b9be9-1450-4996-9c51-70211f62c8b8",
   "metadata": {
    "tags": []
   },
   "outputs": [
    {
     "name": "stdout",
     "output_type": "stream",
     "text": [
      "Accuracy of Random Forest: 0.9766746411483254\n",
      "Confusion Matrix:\n",
      " [[1449    4]\n",
      " [  35  184]]\n",
      "Classification Report:\n",
      "               precision    recall  f1-score   support\n",
      "\n",
      "         ham       0.98      1.00      0.99      1453\n",
      "        spam       0.98      0.84      0.90       219\n",
      "\n",
      "    accuracy                           0.98      1672\n",
      "   macro avg       0.98      0.92      0.95      1672\n",
      "weighted avg       0.98      0.98      0.98      1672\n",
      "\n"
     ]
    }
   ],
   "source": [
    "# Importing necessary classes from sklearn for model building and evaluation\n",
    "from sklearn.ensemble import RandomForestClassifier\n",
    "from sklearn.metrics import accuracy_score, classification_report, confusion_matrix\n",
    "\n",
    "# Instantiate the Random Forest classifier\n",
    "# 'n_estimators' specifies the number of trees in the forest\n",
    "# 'random_state' ensures reproducibility of your results.\n",
    "rf_model = RandomForestClassifier(n_estimators=100, random_state=42)  # Create a RandomForest with 100 decision trees to ensure model stability and reproducibility.\n",
    "\n",
    "# Train the model on the training data\n",
    "rf_model.fit(X_train, y_train)  # Fit the RandomForest model to the training data to learn from it.\n",
    "\n",
    "# Predict the labels for the test set\n",
    "rf_predictions = rf_model.predict(X_test)  # Use the trained model to make predictions on the test set.\n",
    "\n",
    "# Evaluate the model\n",
    "rf_accuracy = accuracy_score(y_test, rf_predictions)  # Calculate the overall accuracy of the model on the test set.\n",
    "rf_conf_matrix = confusion_matrix(y_test, rf_predictions)  # Generate a confusion matrix to see the detailed classification results.\n",
    "rf_class_report = classification_report(y_test, rf_predictions)  # Create a comprehensive classification report showing precision, recall, and F1-scores for each class.\n",
    "\n",
    "# Display the results\n",
    "print(\"Accuracy of Random Forest:\", rf_accuracy)  # Print the accuracy of the model.\n",
    "print(\"Confusion Matrix:\\n\", rf_conf_matrix)  # Print the confusion matrix to understand the true positives, false positives, true negatives, and false negatives.\n",
    "print(\"Classification Report:\\n\", rf_class_report)  # Print the classification report to evaluate model performance for each class."
   ]
  },
  {
   "cell_type": "code",
   "execution_count": 23,
   "id": "8c527290-8a70-4706-b427-8de27aaa4500",
   "metadata": {
    "tags": []
   },
   "outputs": [
    {
     "name": "stdout",
     "output_type": "stream",
     "text": [
      "Top 10 Important Features:\n",
      "      Feature  Importance\n",
      "1033    free    0.033053\n",
      "2957     www    0.030658\n",
      "638    claim    0.030584\n",
      "1775  mobile    0.028657\n",
      "2724     txt    0.026474\n",
      "2735      uk    0.021107\n",
      "2506    stop    0.018433\n",
      "179       50    0.017743\n",
      "78      150p    0.017057\n",
      "2613    text    0.016345\n"
     ]
    }
   ],
   "source": [
    "# 'feature_importances_' attribute of the Random Forest model gives an array of importance scores\n",
    "# for all features used in the model. Each score corresponds to a feature, indicating\n",
    "# how much that feature contributes to improving the model's ability to predict the target variable.\n",
    "feature_importances = rf_model.feature_importances_\n",
    "\n",
    "# Creating a DataFrame to organize the features and their corresponding importance scores.\n",
    "# 'tfidf_vectorizer.get_feature_names_out()' gets the list of feature names which correspond to each importance score.\n",
    "features_df = pd.DataFrame({\n",
    "    'Feature': tfidf_vectorizer.get_feature_names_out(),  # Used to get an array of feature names.\n",
    "    'Importance': feature_importances  # Importance scores for each feature\n",
    "})\n",
    "\n",
    "# Sorting the DataFrame by the 'Importance' column in descending order.\n",
    "# This organizes the features starting with the most important at the top.\n",
    "features_df = features_df.sort_values(by='Importance', ascending=False)\n",
    "\n",
    "# Displaying the top 10 most important features.\n",
    "print(\"Top 10 Important Features:\\n\", features_df.head(10))"
   ]
  },
  {
   "cell_type": "markdown",
   "id": "07c770f4-c3d5-4f5e-a638-2085a0227a7e",
   "metadata": {},
   "source": [
    "## Analysis of Top 10 Important Features\n",
    "\n",
    "The table above lists the top 10 features deemed most important by the Random Forest model for predicting whether a message is spam or not. Each feature represents a word or token, and the 'Importance' score indicates the relative contribution of each feature to the model's decision-making process. Here's a brief explanation of why these particular features might be influential:\n",
    "\n",
    "- **free**: Often used in promotional or spam messages to attract attention.\n",
    "- **www**: Common in URLs, which are frequently included in spam messages to direct users to external sites.\n",
    "- **claim**: Typically found in scam messages that involve claiming prizes or awards.\n",
    "- **mobile**: A common target in spam messages, which often offer deals or news related to mobile devices.\n",
    "- **txt**: Associated with text message services, often used in contexts requiring action like subscriptions or contests.\n",
    "- **uk**: Might appear often in region-specific promotions or spam targeting UK residents.\n",
    "- **stop**: Commonly found in opt-out instructions in unsolicited messages.\n",
    "- **50**, **150p**: These numerical features could be related to money, costs, or charges, which are frequent subjects in spam.\n",
    "- **text**: Similar to 'txt', it relates to text messaging services and can be prevalent in spam related to contests, polls, or promotions.\n",
    "\n",
    "These features have been identified by the model as the strongest predictors of spam, suggesting that messages containing these terms are more likely to be classified as spam compared to others. This insight helps us understand common characteristics of spam messages and could be used to further refine spam filtering techniques to be more effective and less intrusive.\n"
   ]
  },
  {
   "cell_type": "code",
   "execution_count": 24,
   "id": "dbbf14b9-ab2e-48c4-8f1c-e28ae87ca026",
   "metadata": {
    "tags": []
   },
   "outputs": [
    {
     "name": "stdout",
     "output_type": "stream",
     "text": [
      "{0.5: 0.8493150684931506, 0.45: 0.863013698630137, 0.4: 0.8767123287671232, 0.35: 0.8949771689497716, 0.3: 0.908675799086758}\n"
     ]
    }
   ],
   "source": [
    "# Import recall_score function from scikit-learn for evaluating recall\n",
    "from sklearn.metrics import recall_score\n",
    "\n",
    "# Predict probabilities for the test set\n",
    "spam_probabilities = rf_model.predict_proba(X_test)[:, 1]  # Get the probability that each message is spam from the Random Forest model.\n",
    "\n",
    "# Function to apply different thresholds and calculate recall\n",
    "def adjust_threshold_and_calculate_recall(threshold):\n",
    "    predicted_spam = (spam_probabilities >= threshold).astype(int)  # Apply threshold to probabilities to determine binary class predictions (0 or 1).\n",
    "    recalculated_recall = recall_score(y_test == 'spam', predicted_spam)  # Calculate recall for the binary predictions against the actual spam labels.\n",
    "    return recalculated_recall  # Return the calculated recall value.\n",
    "\n",
    "# Test different thresholds\n",
    "thresholds = [0.5, 0.45, 0.4, 0.35, 0.3]  # Define a list of thresholds to test.\n",
    "recall_results = {thresh: adjust_threshold_and_calculate_recall(thresh) for thresh in thresholds}  # Dictionary comprehension to apply each threshold and store the results.\n",
    "print(recall_results)  # Print the recall results for each threshold."
   ]
  },
  {
   "cell_type": "code",
   "execution_count": 25,
   "id": "021eb8f3-027f-44bf-9882-8f92b31800db",
   "metadata": {
    "tags": []
   },
   "outputs": [
    {
     "data": {
      "text/html": [
       "<style>#sk-container-id-2 {color: black;background-color: white;}#sk-container-id-2 pre{padding: 0;}#sk-container-id-2 div.sk-toggleable {background-color: white;}#sk-container-id-2 label.sk-toggleable__label {cursor: pointer;display: block;width: 100%;margin-bottom: 0;padding: 0.3em;box-sizing: border-box;text-align: center;}#sk-container-id-2 label.sk-toggleable__label-arrow:before {content: \"▸\";float: left;margin-right: 0.25em;color: #696969;}#sk-container-id-2 label.sk-toggleable__label-arrow:hover:before {color: black;}#sk-container-id-2 div.sk-estimator:hover label.sk-toggleable__label-arrow:before {color: black;}#sk-container-id-2 div.sk-toggleable__content {max-height: 0;max-width: 0;overflow: hidden;text-align: left;background-color: #f0f8ff;}#sk-container-id-2 div.sk-toggleable__content pre {margin: 0.2em;color: black;border-radius: 0.25em;background-color: #f0f8ff;}#sk-container-id-2 input.sk-toggleable__control:checked~div.sk-toggleable__content {max-height: 200px;max-width: 100%;overflow: auto;}#sk-container-id-2 input.sk-toggleable__control:checked~label.sk-toggleable__label-arrow:before {content: \"▾\";}#sk-container-id-2 div.sk-estimator input.sk-toggleable__control:checked~label.sk-toggleable__label {background-color: #d4ebff;}#sk-container-id-2 div.sk-label input.sk-toggleable__control:checked~label.sk-toggleable__label {background-color: #d4ebff;}#sk-container-id-2 input.sk-hidden--visually {border: 0;clip: rect(1px 1px 1px 1px);clip: rect(1px, 1px, 1px, 1px);height: 1px;margin: -1px;overflow: hidden;padding: 0;position: absolute;width: 1px;}#sk-container-id-2 div.sk-estimator {font-family: monospace;background-color: #f0f8ff;border: 1px dotted black;border-radius: 0.25em;box-sizing: border-box;margin-bottom: 0.5em;}#sk-container-id-2 div.sk-estimator:hover {background-color: #d4ebff;}#sk-container-id-2 div.sk-parallel-item::after {content: \"\";width: 100%;border-bottom: 1px solid gray;flex-grow: 1;}#sk-container-id-2 div.sk-label:hover label.sk-toggleable__label {background-color: #d4ebff;}#sk-container-id-2 div.sk-serial::before {content: \"\";position: absolute;border-left: 1px solid gray;box-sizing: border-box;top: 0;bottom: 0;left: 50%;z-index: 0;}#sk-container-id-2 div.sk-serial {display: flex;flex-direction: column;align-items: center;background-color: white;padding-right: 0.2em;padding-left: 0.2em;position: relative;}#sk-container-id-2 div.sk-item {position: relative;z-index: 1;}#sk-container-id-2 div.sk-parallel {display: flex;align-items: stretch;justify-content: center;background-color: white;position: relative;}#sk-container-id-2 div.sk-item::before, #sk-container-id-2 div.sk-parallel-item::before {content: \"\";position: absolute;border-left: 1px solid gray;box-sizing: border-box;top: 0;bottom: 0;left: 50%;z-index: -1;}#sk-container-id-2 div.sk-parallel-item {display: flex;flex-direction: column;z-index: 1;position: relative;background-color: white;}#sk-container-id-2 div.sk-parallel-item:first-child::after {align-self: flex-end;width: 50%;}#sk-container-id-2 div.sk-parallel-item:last-child::after {align-self: flex-start;width: 50%;}#sk-container-id-2 div.sk-parallel-item:only-child::after {width: 0;}#sk-container-id-2 div.sk-dashed-wrapped {border: 1px dashed gray;margin: 0 0.4em 0.5em 0.4em;box-sizing: border-box;padding-bottom: 0.4em;background-color: white;}#sk-container-id-2 div.sk-label label {font-family: monospace;font-weight: bold;display: inline-block;line-height: 1.2em;}#sk-container-id-2 div.sk-label-container {text-align: center;}#sk-container-id-2 div.sk-container {/* jupyter's `normalize.less` sets `[hidden] { display: none; }` but bootstrap.min.css set `[hidden] { display: none !important; }` so we also need the `!important` here to be able to override the default hidden behavior on the sphinx rendered scikit-learn.org. See: https://github.com/scikit-learn/scikit-learn/issues/21755 */display: inline-block !important;position: relative;}#sk-container-id-2 div.sk-text-repr-fallback {display: none;}</style><div id=\"sk-container-id-2\" class=\"sk-top-container\"><div class=\"sk-text-repr-fallback\"><pre>RandomForestClassifier(random_state=42)</pre><b>In a Jupyter environment, please rerun this cell to show the HTML representation or trust the notebook. <br />On GitHub, the HTML representation is unable to render, please try loading this page with nbviewer.org.</b></div><div class=\"sk-container\" hidden><div class=\"sk-item\"><div class=\"sk-estimator sk-toggleable\"><input class=\"sk-toggleable__control sk-hidden--visually\" id=\"sk-estimator-id-2\" type=\"checkbox\" checked><label for=\"sk-estimator-id-2\" class=\"sk-toggleable__label sk-toggleable__label-arrow\">RandomForestClassifier</label><div class=\"sk-toggleable__content\"><pre>RandomForestClassifier(random_state=42)</pre></div></div></div></div></div>"
      ],
      "text/plain": [
       "RandomForestClassifier(random_state=42)"
      ]
     },
     "execution_count": 25,
     "metadata": {},
     "output_type": "execute_result"
    }
   ],
   "source": [
    "# Initialize the TF-IDF Vectorizer with specific parameters.\n",
    "tfidf_vectorizer = TfidfVectorizer(stop_words='english', max_features=3000, ngram_range=(1, 2))\n",
    "\n",
    "# Transform the 'Message' column into a matrix of TF-IDF features.\n",
    "X_tfidf = tfidf_vectorizer.fit_transform(spam_df['Message'])\n",
    "\n",
    "# Split the dataset into training and testing sets, with 30% of the data used for testing.\n",
    "X_train, X_test, y_train, y_test = train_test_split(X_tfidf, y, test_size=0.3, random_state=42)\n",
    "\n",
    "# Fit the Random Forest model to the training data.\n",
    "rf_model.fit(X_train, y_train)"
   ]
  },
  {
   "cell_type": "code",
   "execution_count": 26,
   "id": "c7bc2594-8410-42ef-a59f-c666389e6fab",
   "metadata": {
    "tags": []
   },
   "outputs": [
    {
     "name": "stdout",
     "output_type": "stream",
     "text": [
      "Balanced Model Performance with Threshold 0.35\n",
      "Accuracy: 0.9802631578947368\n",
      "Confusion Matrix:\n",
      " [[1443   10]\n",
      " [  23  196]]\n",
      "Classification Report:\n",
      "               precision    recall  f1-score   support\n",
      "\n",
      "         ham       0.98      0.99      0.99      1453\n",
      "        spam       0.95      0.89      0.92       219\n",
      "\n",
      "    accuracy                           0.98      1672\n",
      "   macro avg       0.97      0.94      0.96      1672\n",
      "weighted avg       0.98      0.98      0.98      1672\n",
      "\n"
     ]
    }
   ],
   "source": [
    "# Set the threshold to balance recall and precision\n",
    "balanced_threshold = 0.35  # Define a threshold value that has been identified as optimal for balancing recall and precision.\n",
    "\n",
    "# Compute predictions based on the adjusted threshold.\n",
    "balanced_predictions = (spam_probabilities >= balanced_threshold).astype(int)  # Create a binary outcome (0 or 1) where predictions >= 0.35 are '1' (spam).\n",
    "\n",
    "# Map integer predictions back to class labels.\n",
    "balanced_predictions_labels = np.where(balanced_predictions == 1, 'spam', 'ham')  # Convert binary outcomes to string labels 'spam' or 'ham'.\n",
    "\n",
    "# Calculate the metrics for the balanced approach.\n",
    "balanced_accuracy = accuracy_score(y_test, balanced_predictions_labels)  # Calculate accuracy to evaluate overall model performance.\n",
    "balanced_conf_matrix = confusion_matrix(y_test, balanced_predictions_labels)  # Generate confusion matrix to see the counts of TP, FP, TN, and FN.\n",
    "balanced_report = classification_report(y_test, balanced_predictions_labels)  # Generate a detailed classification report showing precision, recall, and F1-score for each class.\n",
    "\n",
    "# Output the balanced results\n",
    "print(\"Balanced Model Performance with Threshold 0.35\")  # Print a header for clarity in output.\n",
    "print(\"Accuracy:\", balanced_accuracy)  # Print the computed accuracy.\n",
    "print(\"Confusion Matrix:\\n\", balanced_conf_matrix)  # Print the confusion matrix to show actual vs predicted classifications.\n",
    "print(\"Classification Report:\\n\", balanced_report)  # Print the classification report for a detailed performance analysis."
   ]
  },
  {
   "cell_type": "markdown",
   "id": "b3bb2ccd-83fb-46a4-95ed-336fab1526eb",
   "metadata": {},
   "source": [
    "## Conclusion\n",
    " The successful implementation of this spam detection model marks a significant step towards enhancing messaging platform's security and usability.\n",
    "\n",
    "### Model Performance\n",
    "After extensive testing and optimization, the model achieved impressive performance metrics:\n",
    "- **Accuracy**: Above 98%, indicating that the model correctly identifies spam and ham messages with high reliability.\n",
    "- **Precision for Spam**: Approximately 95%, showing that when the model predicts messages as spam, they are indeed spam about 95% of the time.\n",
    "- **Recall for Spam**: Around 89%, ensuring that the model captures a significant majority of spam messages, thereby protecting users from unwanted content.\n",
    "\n",
    "### Key Achievements\n",
    "- **Balanced Approach**: The model is optimized to balance both precision and recall, ensuring that it not only identifies most spam messages but also minimizes the number of legitimate messages mistakenly classified as spam.\n",
    "- **User Experience**: By maintaining high accuracy and recall, the model contributes to a safer and more pleasant messaging environment for users."
   ]
  },
  {
   "cell_type": "code",
   "execution_count": null,
   "id": "98459654-291e-44fd-9a57-560b087c7e19",
   "metadata": {},
   "outputs": [],
   "source": []
  }
 ],
 "metadata": {
  "kernelspec": {
   "display_name": "Python 3 (ipykernel)",
   "language": "python",
   "name": "python3"
  },
  "language_info": {
   "codemirror_mode": {
    "name": "ipython",
    "version": 3
   },
   "file_extension": ".py",
   "mimetype": "text/x-python",
   "name": "python",
   "nbconvert_exporter": "python",
   "pygments_lexer": "ipython3",
   "version": "3.10.11"
  }
 },
 "nbformat": 4,
 "nbformat_minor": 5
}
